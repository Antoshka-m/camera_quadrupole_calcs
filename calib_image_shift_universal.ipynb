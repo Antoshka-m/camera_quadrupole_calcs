{
 "cells": [
  {
   "cell_type": "code",
   "execution_count": 4,
   "metadata": {},
   "outputs": [
    {
     "name": "stderr",
     "output_type": "stream",
     "text": [
      "C:\\Users\\malovich\\AppData\\Local\\Continuum\\Anaconda3\\lib\\site-packages\\skvideo\\__init__.py:356: UserWarning: avconv/avprobe not found in path: \n",
      "  warnings.warn(\"avconv/avprobe not found in path: \" + str(path), UserWarning)\n",
      "C:\\Users\\malovich\\AppData\\Local\\Continuum\\Anaconda3\\lib\\site-packages\\skimage\\viewer\\utils\\core.py:10: UserWarning: Recommended matplotlib backend is `Agg` for full skimage.viewer functionality.\n",
      "  warn(\"Recommended matplotlib backend is `Agg` for full \"\n"
     ]
    }
   ],
   "source": [
    "import numpy as np\n",
    "import matplotlib.pyplot as plt\n",
    "from skvideo.utils import rgb2gray\n",
    "import skvideo.io\n",
    "from skimage import io\n",
    "# from skimage import measure\n",
    "from skimage.color import rgb2gray\n",
    "from skimage.filters import threshold_mean  # simple mean thresholding\n",
    "from skimage.segmentation import clear_border\n",
    "from skimage.measure import label, regionprops\n",
    "from skimage.morphology import closing, square\n",
    "from skimage.color import label2rgb\n",
    "from skimage.filters import threshold_otsu\n",
    "from tkinter import Tk\n",
    "from tkinter.filedialog import askopenfilenames\n",
    "from skimage.viewer import ImageViewer\n",
    "import matplotlib.patches as mpatches\n",
    "from  skimage.transform import rotate\n",
    "from skimage.transform import AffineTransform, warp\n",
    "from scipy.stats import linregress"
   ]
  },
  {
   "cell_type": "code",
   "execution_count": 5,
   "metadata": {},
   "outputs": [],
   "source": [
    "def get_filenames():\n",
    "    \"\"\"\n",
    "    get filenames with graphical interface\n",
    "        \n",
    "    Returns\n",
    "    -------\n",
    "    file_list : list\n",
    "        list of chosen filenames\n",
    "    \"\"\"\n",
    "    Tk().withdraw() # we don't want a full GUI, so keep the root window from appearing\n",
    "    file_list=askopenfilenames()\n",
    "    return file_list"
   ]
  },
  {
   "cell_type": "code",
   "execution_count": 6,
   "metadata": {},
   "outputs": [],
   "source": [
    "def rotate_image(frame, angle=0):\n",
    "    \"\"\"\n",
    "    Rotates images if needed (for the cantilever,\n",
    "    where oscillation expected only in one direction)\n",
    "    \n",
    "    Parameters\n",
    "    -------\n",
    "    frame : np-array\n",
    "        grayscale image\n",
    "    angle: float\n",
    "        angle in deg used to rotate\n",
    "        \n",
    "    Returns\n",
    "    -------\n",
    "    angle : float\n",
    "        angle in deg used for rotation\n",
    "    finish: Boolean\n",
    "        True if shouldn't rotate anymore\n",
    "        (condition to break the loop)\n",
    "    \"\"\"\n",
    "    print(\"Is this image fine for you? Chosen angle is \", angle, \"degrees\\n\")\n",
    "    plt.figure()\n",
    "    plt.imshow(rotate(frame, angle), cmap=plt.cm.gray)\n",
    "    plt.show()\n",
    "    a = input(\"Choose other angle or leave blank if its ok\\n\")\n",
    "    if a==\"\":\n",
    "        finish=True\n",
    "    else:\n",
    "        angle=float(a)\n",
    "        finish=False\n",
    "        print(\"finished rotating to angle \", angle, \"degrees.\")\n",
    "    return angle, finish"
   ]
  },
  {
   "cell_type": "code",
   "execution_count": 7,
   "metadata": {},
   "outputs": [],
   "source": [
    "def threshold_centroid (image):\n",
    "    \"\"\"\n",
    "    Using threshold, determine centroid cooordinates.\n",
    "    Coordinates of the centeroid of label which has the biggest area\n",
    "    (assumed to be whole light spot, not some artefact) are returned.\n",
    "    \n",
    "    Parameters\n",
    "    -------\n",
    "    image: np-array\n",
    "        grayscale image\n",
    "        \n",
    "    Returns\n",
    "    -------\n",
    "    center : tuple\n",
    "        tuple of center coordinates\n",
    "    \"\"\"\n",
    "    # apply threshold\n",
    "    thresh = threshold_otsu(image)\n",
    "    bw = closing(image > thresh)\n",
    "    # remove artifacts connected to image border\n",
    "    #cleared = clear_border(bw)\n",
    "    cleared = bw\n",
    "    # label image regions\n",
    "    label_image = label(cleared)\n",
    "    image_label_overlay = label2rgb(label_image, image=image)\n",
    "    centers=[]\n",
    "    areas=[]\n",
    "    for region in regionprops(label_image):\n",
    "        # draw rectangle around segmented areas\n",
    "        # minr, minc, maxr, maxc = region.bbox\n",
    "        areas.append(region.area)\n",
    "        center = region.centroid\n",
    "        centers.append(center)\n",
    "    i=areas.index(max(areas))\n",
    "    return centers[i]\n"
   ]
  },
  {
   "cell_type": "code",
   "execution_count": 8,
   "metadata": {},
   "outputs": [],
   "source": [
    "def calc_intensities(image, center_coord, Iz, Il, Isum):\n",
    "    \"\"\"\n",
    "    Calculation of the intensity difference TP, LR, and SUM\n",
    "    for the qudrants of the single image. Calculated intensities\n",
    "    added to the Il, Iz, Isum lists and returned to be used over\n",
    "    during the loop.\n",
    "    \n",
    "    Parameters\n",
    "    -------\n",
    "    image: np-array\n",
    "        grayscale image\n",
    "    center_coord: tuple\n",
    "        coordinates of the center of quadrants\n",
    "    Iz: list\n",
    "        vertical intensity difference\n",
    "    Il: list\n",
    "        horizontal intensity difference\n",
    "    Isum: list\n",
    "        sum of intensities\n",
    "        \n",
    "    Returns\n",
    "    -------\n",
    "    Iz: list\n",
    "        vertical intensity difference\n",
    "    Il: list\n",
    "        horizontal intensity difference\n",
    "    Isum: list\n",
    "        sum of intensities\n",
    "    \"\"\"\n",
    "    I_C = np.sum(image[0:int(round(center_coord[0], 0)), 0:int(round(center_coord[1], 0))])\n",
    "    I_D = np.sum(image[0:int(round(center_coord[0], 0)), int(round(center_coord[1], 0)):])\n",
    "    I_B = np.sum(image[int(round(center_coord[0], 0)):, int(round(center_coord[1], 0)):])\n",
    "    I_A = np.sum(image[int(round(center_coord[0], 0)):, 0:int(round(center_coord[1], 0))])\n",
    "    Iz=np.append(Iz, (I_A+I_B)-(I_C+I_D))\n",
    "    Il=np.append(Il, (I_A+I_C)-(I_B+I_D))\n",
    "    Isum=np.append(Isum, np.sum(image))\n",
    "    return Iz, Il, Isum"
   ]
  },
  {
   "cell_type": "code",
   "execution_count": 9,
   "metadata": {},
   "outputs": [],
   "source": [
    "def plot_im_w_quadrants(frame, centroid):\n",
    "    \"\"\"\n",
    "    Plot single image and showing the quadrants\n",
    "    \n",
    "    Parameters\n",
    "    -------\n",
    "    image: np-array\n",
    "        grayscale image\n",
    "    centroid: tuple\n",
    "        coordinates of the center of quadrants\n",
    "    \"\"\"\n",
    "    plt.figure()\n",
    "    plt.imshow(frame, cmap=plt.cm.gray)\n",
    "    plt.plot(centroid[1], centroid[0], \"x\", c=\"red\")\n",
    "    plt.axvline(x=centroid[1], c=\"red\", linewidth=1)\n",
    "    plt.axhline(y=centroid[0], c=\"red\", linewidth=1)\n",
    "    plt.show()"
   ]
  },
  {
   "cell_type": "code",
   "execution_count": 10,
   "metadata": {},
   "outputs": [],
   "source": [
    "def plot_shift_curves(k_px_um, Il, Iz, Isum, x_shift, normalization=False):\n",
    "    \"\"\"\n",
    "    Plot Intensity difference (a.u.) vs shift (in px and um)\n",
    "    \n",
    "    Parameters\n",
    "    -------\n",
    "    k_px_um: float\n",
    "        px to um scale (from px size)\n",
    "    Il: np.array\n",
    "        LR (lateral) intensity difference signal\n",
    "    Iz: np.array\n",
    "        TB (vertical) intensity difference signal \n",
    "    Isum: np.array\n",
    "        sum intensity signal \n",
    "    normalization: boolean\n",
    "        if True, plots signal normalized over Isum\n",
    "    \"\"\"\n",
    "    # x_shift = np.array(x_shift)\n",
    "    # Il=np.array(Il)\n",
    "    # Iz=np.array(Iz)\n",
    "    # Isum=np.array(Isum)\n",
    "    plt.figure()\n",
    "    plt.grid()\n",
    "    if normalization:\n",
    "        plt.plot(Il/Isum, x_shift, label='lateral', linestyle='-', marker='o')\n",
    "        plt.plot(Iz/Isum, x_shift, label='vertical', linestyle='-', marker='o')\n",
    "        plt.xlabel('Intensity difference normalized, a.u.')\n",
    "    else:\n",
    "        plt.plot(Il, x_shift, label='lateral', linestyle='-', marker='o')\n",
    "        plt.plot(Iz, x_shift, label='vertical', linestyle='-', marker='o')\n",
    "        plt.xlabel('Intensity difference, a.u.')\n",
    "    plt.title('shift in px')\n",
    "    plt.ylabel('Shift, px')\n",
    "    plt.legend()\n",
    "    plt.figure()\n",
    "    plt.grid()\n",
    "    if normalization:\n",
    "        plt.plot(Il/Isum, x_shift/k_px_um, label='lateral', linestyle='-', marker='o')\n",
    "        plt.plot(Iz/Isum, x_shift/k_px_um, label='vertical', linestyle='-', marker='o')\n",
    "        plt.xlabel('Intensity difference normalized, a.u.')\n",
    "    else:\n",
    "        plt.plot(Il, x_shift/k_px_um, label='lateral', linestyle='-', marker='o')\n",
    "        plt.plot(Iz, x_shift/k_px_um, label='vertical', linestyle='-', marker='o')\n",
    "        plt.xlabel('Intensity difference, a.u.')\n",
    "    plt.title('shift in um')\n",
    "    plt.ylabel('Shift, um')\n",
    "    plt.legend()\n",
    "    plt.show()"
   ]
  },
  {
   "cell_type": "code",
   "execution_count": 20,
   "metadata": {},
   "outputs": [],
   "source": [
    "def calc_calib_line(x_shift, k_px_um, Il, Isum=None, normalization=False):\n",
    "    \"\"\"\n",
    "    Calculate coefficient of calibration line\n",
    "    \n",
    "    Parameters\n",
    "    -------\n",
    "    x_shift: np-array\n",
    "        dx shifts of image\n",
    "    k_px_um: float\n",
    "        px to um scale (from px size)\n",
    "    Il: np.array\n",
    "        LR (lateral) intensity difference signal\n",
    "    Isum: np.array\n",
    "        sum intensity signal \n",
    "    normalization: boolean\n",
    "        if True, doing calculation for signal normalized over Isum\n",
    "    \"\"\"\n",
    "    if normalization:\n",
    "        k, b, _, _, _ = linregress(Il/Isum, x_shift/k_px_um)\n",
    "    else:\n",
    "        k, b, _, _, _ = linregress(Il, x_shift/k_px_um)\n",
    "    if b>0:\n",
    "        print('The calibration line (a.u. to um) has formula {}*x+{}'.format(round(k, 3), round(b, 3)))\n",
    "    else:\n",
    "        print('The calibration line (a.u. to um) has formula {}*x{}'.format(round(k, 3), round(b, 3)))\n",
    "    return k, b"
   ]
  },
  {
   "cell_type": "markdown",
   "metadata": {},
   "source": [
    "Let's import first frame of videofile, and show it"
   ]
  },
  {
   "cell_type": "code",
   "execution_count": 12,
   "metadata": {},
   "outputs": [
    {
     "name": "stdout",
     "output_type": "stream",
     "text": [
      "Importing file  Z:/LPMV/Users/Anton-Malovichko/experiments/2019/05/180519_SU8_cantilever_highfps_and_liquid/04_2500fps_5V_200Hz.avi\n"
     ]
    },
    {
     "data": {
      "image/png": "[encoded data removed]",
      "text/plain": [
       "<Figure size 432x288 with 1 Axes>"
      ]
     },
     "metadata": {
      "needs_background": "light"
     },
     "output_type": "display_data"
    }
   ],
   "source": [
    "file = get_filenames()\n",
    "file = file[0] # get just single file instead of list\n",
    "print('Importing file ', file)\n",
    "frame = skvideo.io.vread(file, num_frames=1) # import just first frame\n",
    "frame = rgb2gray(frame[0]) # get element instead of list, make grayscale\n",
    "plt.figure()\n",
    "plt.imshow(frame, cmap=plt.cm.gray)\n",
    "plt.show()"
   ]
  },
  {
   "cell_type": "markdown",
   "metadata": {},
   "source": [
    "Compensate angle if its needed"
   ]
  },
  {
   "cell_type": "code",
   "execution_count": 13,
   "metadata": {},
   "outputs": [
    {
     "name": "stdout",
     "output_type": "stream",
     "text": [
      "Is this image fine for you? Chosen angle is  0 degrees\n",
      "\n"
     ]
    },
    {
     "data": {
      "image/png": "[encoded data removed]",
      "text/plain": [
       "<Figure size 432x288 with 1 Axes>"
      ]
     },
     "metadata": {
      "needs_background": "light"
     },
     "output_type": "display_data"
    },
    {
     "name": "stdin",
     "output_type": "stream",
     "text": [
      "Choose other angle or leave blank if its ok\n",
      " -20\n"
     ]
    },
    {
     "name": "stdout",
     "output_type": "stream",
     "text": [
      "finished rotating to angle  -20.0 degrees.\n",
      "Is this image fine for you? Chosen angle is  -20.0 degrees\n",
      "\n"
     ]
    },
    {
     "data": {
      "image/png": "[encoded data removed]",
      "text/plain": [
       "<Figure size 432x288 with 1 Axes>"
      ]
     },
     "metadata": {
      "needs_background": "light"
     },
     "output_type": "display_data"
    },
    {
     "name": "stdin",
     "output_type": "stream",
     "text": [
      "Choose other angle or leave blank if its ok\n",
      " \n"
     ]
    }
   ],
   "source": [
    "finish=False\n",
    "angle=0\n",
    "while finish==False:\n",
    "        angle, finish=rotate_image(frame, angle)\n",
    "frame=rotate(frame, angle)"
   ]
  },
  {
   "cell_type": "markdown",
   "metadata": {},
   "source": [
    "*Detect center of lightspot, show quadrants:*"
   ]
  },
  {
   "cell_type": "code",
   "execution_count": 14,
   "metadata": {},
   "outputs": [
    {
     "data": {
      "image/png": "[encoded data removed]",
      "text/plain": [
       "<Figure size 432x288 with 1 Axes>"
      ]
     },
     "metadata": {
      "needs_background": "light"
     },
     "output_type": "display_data"
    }
   ],
   "source": [
    "centroid=threshold_centroid(frame)\n",
    "plot_im_w_quadrants(frame, centroid)"
   ]
  },
  {
   "cell_type": "markdown",
   "metadata": {},
   "source": [
    "Demonstrate how shifted image looks like"
   ]
  },
  {
   "cell_type": "code",
   "execution_count": 15,
   "metadata": {},
   "outputs": [
    {
     "data": {
      "image/png": "[encoded data removed]",
      "text/plain": [
       "<Figure size 432x288 with 1 Axes>"
      ]
     },
     "metadata": {
      "needs_background": "light"
     },
     "output_type": "display_data"
    }
   ],
   "source": [
    "transform = AffineTransform(translation=(1, 0))\n",
    "shifted = warp(frame, transform, mode='constant', preserve_range=True)\n",
    "plot_im_w_quadrants(shifted, centroid)"
   ]
  },
  {
   "cell_type": "markdown",
   "metadata": {},
   "source": [
    "Shift images along x axis"
   ]
  },
  {
   "cell_type": "code",
   "execution_count": 16,
   "metadata": {},
   "outputs": [],
   "source": [
    "shifted_im = []\n",
    "x_shift = np.array([0.1*dx for dx in range(1, 11)])  # generate dx value for linear shift\n",
    "for dx in x_shift:\n",
    "    transform = AffineTransform(translation=(dx, 0))  # shift along lateral axis\n",
    "    shifted_im.append(warp(frame, transform, mode='constant', preserve_range=True))"
   ]
  },
  {
   "cell_type": "markdown",
   "metadata": {},
   "source": [
    "Calculate the intensities"
   ]
  },
  {
   "cell_type": "code",
   "execution_count": 17,
   "metadata": {},
   "outputs": [],
   "source": [
    "Il=np.array([])\n",
    "Iz=np.array([])\n",
    "Isum=np.array([])\n",
    "for i in range(len(shifted_im)):\n",
    "    Iz, Il, Isum = calc_intensities(shifted_im[i], centroid, Iz, Il, Isum)"
   ]
  },
  {
   "cell_type": "markdown",
   "metadata": {},
   "source": [
    "Show calculated intensity difference vs displacement and get linear fit coefficients of the calibration:"
   ]
  },
  {
   "cell_type": "code",
   "execution_count": 21,
   "metadata": {},
   "outputs": [
    {
     "data": {
      "image/png": "[encoded data removed]",
      "text/plain": [
       "<Figure size 432x288 with 1 Axes>"
      ]
     },
     "metadata": {
      "needs_background": "light"
     },
     "output_type": "display_data"
    },
    {
     "data": {
      "image/png": "[encoded data removed]",
      "text/plain": [
       "<Figure size 432x288 with 1 Axes>"
      ]
     },
     "metadata": {
      "needs_background": "light"
     },
     "output_type": "display_data"
    },
    {
     "name": "stdout",
     "output_type": "stream",
     "text": [
      "The calibration line (a.u. to um) has formula 0.024*x-0.07\n"
     ]
    }
   ],
   "source": [
    "plot_shift_curves(k_px_um=1.36, Il=Il, Iz=Iz, Isum=Isum, x_shift=x_shift, normalization=False)\n",
    "k, b = calc_calib_line(x_shift=x_shift, k_px_um=1.36, Il=Il, normalization=False)"
   ]
  },
  {
   "cell_type": "markdown",
   "metadata": {},
   "source": []
  }
 ],
 "metadata": {
  "kernelspec": {
   "display_name": "Python 3",
   "language": "python",
   "name": "python3"
  },
  "language_info": {
   "codemirror_mode": {
    "name": "ipython",
    "version": 3
   },
   "file_extension": ".py",
   "mimetype": "text/x-python",
   "name": "python",
   "nbconvert_exporter": "python",
   "pygments_lexer": "ipython3",
   "version": "3.6.8"
  }
 },
 "nbformat": 4,
 "nbformat_minor": 4
}
